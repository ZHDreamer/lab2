{
 "cells": [
  {
   "cell_type": "code",
   "execution_count": 27,
   "metadata": {},
   "outputs": [],
   "source": [
    "import numpy as np\n",
    "import pandas as pd\n",
    "from sklearn.decomposition import PCA\n"
   ]
  },
  {
   "cell_type": "code",
   "execution_count": 28,
   "metadata": {},
   "outputs": [],
   "source": [
    "data = pd.read_csv(\"ColorHistogram.asc\", header=None, delim_whitespace=True, index_col=0,dtype=np.float64)"
   ]
  },
  {
   "cell_type": "code",
   "execution_count": 29,
   "metadata": {},
   "outputs": [
    {
     "name": "stdout",
     "output_type": "stream",
     "text": [
      "PCA 之前数据方差： 0.17568110536213188\n",
      "PCA 之后数据方差： 0.10558698678018752\n"
     ]
    }
   ],
   "source": [
    "variance_before = np.var(data, axis=0).sum()\n",
    "\n",
    "pca_data = PCA(n_components=5).fit_transform(data.values)\n",
    "variance_after = np.var(pca_data, axis=0).sum()\n",
    "\n",
    "# 输出结果\n",
    "print(\"PCA 之前数据方差：\", variance_before)\n",
    "# print(\"PCA 之后数据（降至%d维）：\" % n_components, pca_data)\n",
    "print(\"PCA 之后数据方差：\", variance_after)\n"
   ]
  }
 ],
 "metadata": {
  "kernelspec": {
   "display_name": "Python 3",
   "language": "python",
   "name": "python3"
  },
  "language_info": {
   "codemirror_mode": {
    "name": "ipython",
    "version": 3
   },
   "file_extension": ".py",
   "mimetype": "text/x-python",
   "name": "python",
   "nbconvert_exporter": "python",
   "pygments_lexer": "ipython3",
   "version": "3.11.1"
  },
  "orig_nbformat": 4
 },
 "nbformat": 4,
 "nbformat_minor": 2
}
